{
 "cells": [
  {
   "cell_type": "code",
   "execution_count": 1,
   "metadata": {},
   "outputs": [],
   "source": [
    "#%matplotlib nbagg\n",
    "import warnings\n",
    "import inspect\n",
    "import matplotlib.pyplot as plt\n",
    "import IPython.display\n",
    "import numpy as np\n",
    "from cued_sf2_lab.familiarisation import load_mat_img, plot_image\n",
    "from cued_sf2_lab.dct import colxfm"
   ]
  },
  {
   "cell_type": "markdown",
   "metadata": {},
   "source": [
    "# 8 The Lapped Bi-orthogonal Transform (LBT)\n",
    "\n",
    "<div class=\"alert alert-warning alert-block\">\n",
    "    \n",
    "This notebook is incomplete!</div>\n",
    "\n",
    "<p></p>\n",
    "\n",
    "<!-- sorry for the nasty HTML, markdown is bad for figures -->\n",
    "\n",
    "<figure style=\"text-align: center\">\n",
    "<div class=\"row\">\n",
    "<figure class=\"col-md-4 col-md-offset-1\">\n",
    "<img src=\"figures/lbt.png\" style=\"max-height: 350px\" />\n",
    "<figcaption>(a) Lapped Bi-orthogonal Transform</figcaption>\n",
    "</figure>\n",
    "\n",
    "<figure class=\"col-md-5 col-md-offset-1\">\n",
    "<img src=\"figures/pot.png\" style=\"max-height: 350px\" />\n",
    "<figcaption>(b) Photo Overlap Transform and a DCT</figcaption>\n",
    "</figure>\n",
    "</div>\n",
    "<div class=\"row\">\n",
    "<figcaption>\n",
    "<br />\n",
    "\n",
    "Figure 4: (a) An LBT transforms overlapping sections of `X` to create `Y`. (b) In some cases\n",
    "this can be interpreted as pre-filtering with a POT, followed by a DCT.</figcaption></div></figure>"
   ]
  },
  {
   "cell_type": "markdown",
   "metadata": {},
   "source": [
    "One of the difficulties with the DCT is that it processes each block separately and hence\n",
    "does not take advantage of any correlation between blocks. A possible solution to this is\n",
    "to use a _Lapped Bi-orthogonal Transform (LBT)_. These transform overlapping blocks in `X`\n",
    "to generate smaller non-overlapping blocks in `Y`. In the left-hand figure above, 16 values\n",
    "in `X` are used to generate each set of 8 values in `Y`.\n",
    "\n",
    "LBTs are quite complicated to derive and analyse: however one of the most popular forms<sup>3</sup>\n",
    "can also be represented as a pre-filtering operation before performing the DCT described\n",
    "in the previous section.\n",
    "In this case the pre-filtering (or post-filtering for the reverse\n",
    "operation) is sometimes known as a _Photo Overlap Transform or POT_. A POT followed\n",
    "by a DCT is then equivalent to a particular type of LBT.\n",
    "\n",
    "The right-hand figure above demonstrates this. The POT is first performed on a section\n",
    "of data `X`, shifted by `N/2`, so that it runs across the block boundaries of the subsequent\n",
    "DCT. Ignoring this block shift for a moment, the forward operation for a 2D image `X` is:\n",
    "\n",
    "\n",
    "$$Y = C ∗ Pf ∗ X ∗ Pf ′ ∗ C′$$\n",
    "\n",
    "or in reverse\n",
    "\n",
    "$$ X = Pr′ ∗ C′ ∗ Y ∗ C ∗ Pr $$\n",
    "\n",
    "<hr />\n",
    "<small><sup>3</sup>The type-II fast lapped (bi-)orthogonal transform, or LOT-II</small>"
   ]
  },
  {
   "cell_type": "markdown",
   "metadata": {},
   "source": [
    "## 8.1 Applying the LBT to images"
   ]
  },
  {
   "cell_type": "code",
   "execution_count": 2,
   "metadata": {},
   "outputs": [],
   "source": [
    "X, cmaps_dict = load_mat_img(img='lighthouse.mat', img_info='X', cmap_info={'map', 'map2'})\n",
    "X = X - 128.0"
   ]
  },
  {
   "cell_type": "markdown",
   "metadata": {},
   "source": [
    "The pre-filtering `Pf ∗ X ∗ Pf′` (with the correct block shift) is straightforward in Python:\n",
    "\n",
    "```python\n",
    "t = np.s_[N//2:-N//2]  # N is the DCT size, I is the image size\n",
    "Xp = X.copy()  # copy the non-transformed edges directly from X\n",
    "Xp[t,:] = colxfm(Xp[t,:], Pf)\n",
    "Xp[:,t] = colxfm(Xp[:,t].T, Pf).T\n",
    "```"
   ]
  },
  {
   "cell_type": "markdown",
   "metadata": {},
   "source": [
    "This is followed by the DCT `C` as before. In the reverse operation, the inverse DCT `C’` is\n",
    "performed first, followed by Pr’:\n",
    "```python\n",
    "Zp = Z.copy()  #copy the non-transformed edges directly from Z\n",
    "Zp[:,t] = colxfm(Zp[:,t].T, Pr.T).T\n",
    "Zp[t,:] = colxfm(Zp[t,:], Pr.T)\n",
    "```"
   ]
  },
  {
   "cell_type": "markdown",
   "metadata": {},
   "source": [
    "We have provided a function `pot_ii(N, s)` which will generate a forward (pre-filtering,\n",
    "`Pf`) and reverse (post-filtering, `Pr`) matrix of size `N` with scaling factor `s`."
   ]
  },
  {
   "cell_type": "code",
   "execution_count": 3,
   "metadata": {},
   "outputs": [],
   "source": [
    "from cued_sf2_lab.lbt import pot_ii"
   ]
  },
  {
   "cell_type": "markdown",
   "metadata": {},
   "source": [
    "Edit your code\n",
    "for performing DCT analysis so that it can pre-filter `X` with `Pf` before the forward DCT,\n",
    "then post-filter `Z` with `Pr` after the inverse DCT. Confirm that, without quantisation, this\n",
    "correctly recreates the original image, i.e. `Zp = X`. Use `Pf, Pr = pot_ii(N)` with the\n",
    "default scaling value `s`."
   ]
  },
  {
   "cell_type": "code",
   "execution_count": 5,
   "metadata": {},
   "outputs": [],
   "source": [
    "# your code here"
   ]
  },
  {
   "cell_type": "markdown",
   "metadata": {},
   "source": [
    "## 8.2 Quantisation and coding efficiency"
   ]
  },
  {
   "cell_type": "markdown",
   "metadata": {},
   "source": [
    "The scaling factor `s` determines the degree of bi-orthogonality. If `s = 1` then Pf is the same\n",
    "as Pr, otherwise `1 < s < 2` weights the relative contributions of `Pf` and `Pr` un-equally.\n",
    "\n",
    "<div class=\"alert alert-block alert-danger\">\n",
    "\n",
    "For an 8 × 8 DCT, try implementing an LBT with POT scaling factors varying from $1$\n",
    "to $2$ ($\\sqrt{2}$ is often a good choice). In each case find the quantisation step which makes\n",
    "the rms error match the directly quantised image. Note the compression ratios and find\n",
    "the scaling factor which maximises these. Also note the visual features in these images.</div>"
   ]
  },
  {
   "cell_type": "code",
   "execution_count": 7,
   "metadata": {},
   "outputs": [],
   "source": [
    "# your code here"
   ]
  },
  {
   "cell_type": "markdown",
   "metadata": {},
   "source": [
    "The POT can often improve both compression and block smoothing, since the pre-filter\n",
    "acts to reduce correlations between each DCT sub-block, whilst the inverse post-filter\n",
    "acts to remove the discontinuities between sub-blocks. This is rather different from the\n",
    "operation of the DCT. Investigate this by looking at the basis functions, as you did with\n",
    "the DCT:"
   ]
  },
  {
   "cell_type": "code",
   "execution_count": 4,
   "metadata": {},
   "outputs": [
    {
     "data": {
      "image/png": "[encoded data removed]",
      "text/plain": [
       "<Figure size 432x288 with 2 Axes>"
      ]
     },
     "metadata": {
      "needs_background": "light"
     },
     "output_type": "display_data"
    }
   ],
   "source": [
    "Pf, Pr = pot_ii(8)\n",
    "bases = np.concatenate([np.full((8,1), np.nan), Pf, np.full((8,1), np.nan)], axis=1)\n",
    "bases = bases.reshape(-1, 1)\n",
    "fig, ax = plt.subplots()\n",
    "im_obj = plot_image(bases @ bases.T, ax=ax)\n",
    "fig.colorbar(im_obj, ax=ax);"
   ]
  },
  {
   "cell_type": "markdown",
   "metadata": {},
   "source": [
    "<div class=\"alert alert-block alert-danger\">\n",
    "\n",
    "Look at both these bases and the pre-filtered image `Xp`, using different scaling factors\n",
    "`s`, and comment on the visual effect of varying these scaling factors. You may need to\n",
    "multiply `Xp` by up to 0.5 to display it better.</div>"
   ]
  },
  {
   "cell_type": "code",
   "execution_count": 10,
   "metadata": {},
   "outputs": [],
   "source": [
    "# your code here"
   ]
  },
  {
   "cell_type": "markdown",
   "metadata": {},
   "source": [
    "With this type of POT / DCT combination it is common to use smaller DCT block sizes\n",
    "but to code several blocks together. Hence a more accurate estimate of the number of bits\n",
    "is found by always using 16 × 16 blocks, i.e. regroup `Yq` with the correct size `N` to give\n",
    "`Yr`, but then always use `dctbpp(Yr, 16)`.\n",
    "\n",
    "<div class=\"alert alert-block alert-danger\">\n",
    "\n",
    "Investigate the relative visual and compression performance of LBTs with 4 × 4, 8 × 8\n",
    "and 16 × 16 blocks, using the scaling factor you have previously selected. As before, be\n",
    "careful to match the rms error with a directly quantised image.</div>"
   ]
  },
  {
   "cell_type": "code",
   "execution_count": 12,
   "metadata": {},
   "outputs": [],
   "source": [
    "# your code here"
   ]
  }
 ],
 "metadata": {
  "celltoolbar": "Tags",
  "kernelspec": {
   "display_name": "Python 3",
   "language": "python",
   "name": "python3"
  },
  "language_info": {
   "codemirror_mode": {
    "name": "ipython",
    "version": 3
   },
   "file_extension": ".py",
   "mimetype": "text/x-python",
   "name": "python",
   "nbconvert_exporter": "python",
   "pygments_lexer": "ipython3",
   "version": "3.7.13"
  }
 },
 "nbformat": 4,
 "nbformat_minor": 4
}
